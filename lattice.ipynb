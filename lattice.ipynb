{
 "cells": [
  {
   "cell_type": "code",
   "execution_count": 7,
   "metadata": {},
   "outputs": [
    {
     "name": "stdout",
     "output_type": "stream",
     "text": [
      "Reseaux direct :\n",
      "3.614165 0.010107 6.293467\n",
      "1.686297 3.196669 6.293467\n",
      "0.016706 0.010107 7.257385\n",
      "Reseaux reciproques :\n",
      "1.745827 -0.915552 -0.002744\n",
      "-0.000735 1.971331 -0.002744\n",
      "-1.513311 -0.915552 0.870523\n",
      "Type de maille :\n",
      "rhombohedral\n",
      "Groupe ponctuel :\n",
      "-3m\n",
      "Systeme cristallin :\n",
      "trigonal\n"
     ]
    }
   ],
   "source": [
    "import pymatgen as mg\n",
    "from pymatgen.io.cif import CifWriter\n",
    "from pymatgen.ext.matproj import MPRester\n",
    "import pymatgen.symmetry.analyzer as sa\n",
    "m = MPRester(\"JsnJ9pas7aGyFxGDx\")\n",
    "\n",
    "# Structure for material id\n",
    "structure = m.get_structure_by_material_id(\"mp-23009\")\n",
    "    \n",
    "# Write to a CIF.\n",
    "w = CifWriter(structure)\n",
    "w.write_file('mp-23009_symmetrized.cif')\n",
    "\n",
    "#Reseaux directs\n",
    "res = sa.SpacegroupAnalyzer(structure)\n",
    "dire = structure.lattice\n",
    "print(\"Reseaux direct :\")\n",
    "print(dire)\n",
    "\n",
    "\n",
    "#Reseaux reciproques\n",
    "reci = structure.lattice.reciprocal_lattice\n",
    "print(\"Reseaux reciproques :\")\n",
    "print(reci)\n",
    "\n",
    "#Type de maille\n",
    "typm = res.get_lattice_type()\n",
    "print(\"Type de maille :\" )\n",
    "print(typm)\n",
    "\n",
    "#Groupe ponctuel\n",
    "ponct = res.get_point_group_symbol()\n",
    "print(\"Groupe ponctuel :\" )\n",
    "print(ponct)\n",
    "\n",
    "#Système cristallin\n",
    "crist = res.get_crystal_system()\n",
    "print(\"Systeme cristallin :\" )\n",
    "print(crist)"
   ]
  },
  {
   "cell_type": "code",
   "execution_count": null,
   "metadata": {},
   "outputs": [],
   "source": []
  }
 ],
 "metadata": {
  "kernelspec": {
   "display_name": "Python 3",
   "language": "python",
   "name": "python3"
  },
  "language_info": {
   "codemirror_mode": {
    "name": "ipython",
    "version": 3
   },
   "file_extension": ".py",
   "mimetype": "text/x-python",
   "name": "python",
   "nbconvert_exporter": "python",
   "pygments_lexer": "ipython3",
   "version": "3.6.8"
  }
 },
 "nbformat": 4,
 "nbformat_minor": 2
}
